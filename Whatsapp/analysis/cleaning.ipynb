{
  "nbformat": 4,
  "nbformat_minor": 0,
  "metadata": {
    "colab": {
      "name": "cleaning.ipynb",
      "version": "0.3.2",
      "views": {},
      "default_view": {},
      "provenance": [],
      "collapsed_sections": []
    },
    "kernelspec": {
      "name": "python3",
      "display_name": "Python 3"
    },
    "accelerator": "GPU"
  },
  "cells": [
    {
      "metadata": {
        "id": "VWuxye5EpdaH",
        "colab_type": "code",
        "colab": {
          "autoexec": {
            "startup": false,
            "wait_interval": 0
          }
        }
      },
      "cell_type": "code",
      "source": [
        "import codecs\n",
        "import glob\n",
        "import logging\n",
        "import multiprocessing\n",
        "import os\n",
        "import pprint\n",
        "import re\n",
        "\n",
        "import nltk\n",
        "import sklearn.manifold\n",
        "import numpy as np\n",
        "import matplotlib.pyplot as plt\n",
        "import pandas as pd\n",
        "import seaborn as sns\n",
        "import string\n",
        "import nltk.data"
      ],
      "execution_count": 0,
      "outputs": []
    },
    {
      "metadata": {
        "id": "pPlI5mWAqWHn",
        "colab_type": "code",
        "colab": {
          "autoexec": {
            "startup": false,
            "wait_interval": 0
          },
          "base_uri": "https://localhost:8080/",
          "height": 54
        },
        "outputId": "b33d93a8-e25c-47dc-e5ca-b92dfb05be2a",
        "executionInfo": {
          "status": "ok",
          "timestamp": 1530788578463,
          "user_tz": -330,
          "elapsed": 1816,
          "user": {
            "displayName": "Suyash Gulati",
            "photoUrl": "https://lh3.googleusercontent.com/a/default-user=s128",
            "userId": "105838867624346791498"
          }
        }
      },
      "cell_type": "code",
      "source": [
        "!ls"
      ],
      "execution_count": 2,
      "outputs": [
        {
          "output_type": "stream",
          "text": [
            "datalab  glove.6B.100d.txt  glove.6B.300d.txt  glove.6B.zip\r\n",
            "drive\t glove.6B.200d.txt  glove.6B.50d.txt\r\n"
          ],
          "name": "stdout"
        }
      ]
    },
    {
      "metadata": {
        "id": "EKqFhKhkqaw9",
        "colab_type": "code",
        "colab": {
          "autoexec": {
            "startup": false,
            "wait_interval": 0
          },
          "base_uri": "https://localhost:8080/",
          "height": 56
        },
        "outputId": "e9ec9866-b782-4f99-a9eb-c028d58af907",
        "executionInfo": {
          "status": "ok",
          "timestamp": 1530788780721,
          "user_tz": -330,
          "elapsed": 1680,
          "user": {
            "displayName": "Suyash Gulati",
            "photoUrl": "https://lh3.googleusercontent.com/a/default-user=s128",
            "userId": "105838867624346791498"
          }
        }
      },
      "cell_type": "code",
      "source": [
        "df = pd.read_csv('drive/app/Misc/whatsapp/analysis/rajit_chat.txt', header=None,error_bad_lines=False,sep=']')"
      ],
      "execution_count": 16,
      "outputs": [
        {
          "output_type": "stream",
          "text": [
            "b'Skipping line 14807: expected 2 fields, saw 3\\nSkipping line 16382: expected 2 fields, saw 3\\nSkipping line 44293: expected 2 fields, saw 3\\nSkipping line 44896: expected 2 fields, saw 3\\nSkipping line 50313: expected 2 fields, saw 3\\nSkipping line 52078: expected 2 fields, saw 3\\nSkipping line 79430: expected 2 fields, saw 3\\n'\n"
          ],
          "name": "stderr"
        }
      ]
    },
    {
      "metadata": {
        "id": "LM-bZIYKHakY",
        "colab_type": "code",
        "colab": {
          "autoexec": {
            "startup": false,
            "wait_interval": 0
          },
          "base_uri": "https://localhost:8080/",
          "height": 112
        },
        "outputId": "9530054b-3226-47a8-f0da-787e0ef7f1e5",
        "executionInfo": {
          "status": "ok",
          "timestamp": 1530788781741,
          "user_tz": -330,
          "elapsed": 747,
          "user": {
            "displayName": "Suyash Gulati",
            "photoUrl": "https://lh3.googleusercontent.com/a/default-user=s128",
            "userId": "105838867624346791498"
          }
        }
      },
      "cell_type": "code",
      "source": [
        "df.head(2)"
      ],
      "execution_count": 17,
      "outputs": [
        {
          "output_type": "execute_result",
          "data": {
            "text/html": [
              "<div>\n",
              "<style scoped>\n",
              "    .dataframe tbody tr th:only-of-type {\n",
              "        vertical-align: middle;\n",
              "    }\n",
              "\n",
              "    .dataframe tbody tr th {\n",
              "        vertical-align: top;\n",
              "    }\n",
              "\n",
              "    .dataframe thead th {\n",
              "        text-align: right;\n",
              "    }\n",
              "</style>\n",
              "<table border=\"1\" class=\"dataframe\">\n",
              "  <thead>\n",
              "    <tr style=\"text-align: right;\">\n",
              "      <th></th>\n",
              "      <th>0</th>\n",
              "      <th>1</th>\n",
              "    </tr>\n",
              "  </thead>\n",
              "  <tbody>\n",
              "    <tr>\n",
              "      <th>0</th>\n",
              "      <td>[30/01/14, 11:02:57 PM</td>\n",
              "      <td>‎Adamya Rajput changed the subject to “Richa ...</td>\n",
              "    </tr>\n",
              "    <tr>\n",
              "      <th>1</th>\n",
              "      <td>[31/01/14, 3:09:54 AM</td>\n",
              "      <td>‎Adamya Rajput was added</td>\n",
              "    </tr>\n",
              "  </tbody>\n",
              "</table>\n",
              "</div>"
            ],
            "text/plain": [
              "                        0                                                  1\n",
              "0  [30/01/14, 11:02:57 PM   ‎Adamya Rajput changed the subject to “Richa ...\n",
              "1   [31/01/14, 3:09:54 AM                           ‎Adamya Rajput was added"
            ]
          },
          "metadata": {
            "tags": []
          },
          "execution_count": 17
        }
      ]
    },
    {
      "metadata": {
        "id": "di-m1ybyrN6D",
        "colab_type": "code",
        "colab": {
          "autoexec": {
            "startup": false,
            "wait_interval": 0
          }
        }
      },
      "cell_type": "code",
      "source": [
        "# Removing [ from column 0\n",
        "df[[\"trash\",\"date_time\"]] = pd.DataFrame(df[0].str.split('[',1).tolist())"
      ],
      "execution_count": 0,
      "outputs": []
    },
    {
      "metadata": {
        "id": "lYARkWBzHdp7",
        "colab_type": "code",
        "colab": {
          "autoexec": {
            "startup": false,
            "wait_interval": 0
          },
          "base_uri": "https://localhost:8080/",
          "height": 112
        },
        "outputId": "0ab73d4b-352d-4fdd-acd6-4e7a45328d07",
        "executionInfo": {
          "status": "ok",
          "timestamp": 1530788784307,
          "user_tz": -330,
          "elapsed": 764,
          "user": {
            "displayName": "Suyash Gulati",
            "photoUrl": "https://lh3.googleusercontent.com/a/default-user=s128",
            "userId": "105838867624346791498"
          }
        }
      },
      "cell_type": "code",
      "source": [
        "df.head(2)"
      ],
      "execution_count": 19,
      "outputs": [
        {
          "output_type": "execute_result",
          "data": {
            "text/html": [
              "<div>\n",
              "<style scoped>\n",
              "    .dataframe tbody tr th:only-of-type {\n",
              "        vertical-align: middle;\n",
              "    }\n",
              "\n",
              "    .dataframe tbody tr th {\n",
              "        vertical-align: top;\n",
              "    }\n",
              "\n",
              "    .dataframe thead th {\n",
              "        text-align: right;\n",
              "    }\n",
              "</style>\n",
              "<table border=\"1\" class=\"dataframe\">\n",
              "  <thead>\n",
              "    <tr style=\"text-align: right;\">\n",
              "      <th></th>\n",
              "      <th>0</th>\n",
              "      <th>1</th>\n",
              "      <th>trash</th>\n",
              "      <th>date_time</th>\n",
              "    </tr>\n",
              "  </thead>\n",
              "  <tbody>\n",
              "    <tr>\n",
              "      <th>0</th>\n",
              "      <td>[30/01/14, 11:02:57 PM</td>\n",
              "      <td>‎Adamya Rajput changed the subject to “Richa ...</td>\n",
              "      <td></td>\n",
              "      <td>30/01/14, 11:02:57 PM</td>\n",
              "    </tr>\n",
              "    <tr>\n",
              "      <th>1</th>\n",
              "      <td>[31/01/14, 3:09:54 AM</td>\n",
              "      <td>‎Adamya Rajput was added</td>\n",
              "      <td></td>\n",
              "      <td>31/01/14, 3:09:54 AM</td>\n",
              "    </tr>\n",
              "  </tbody>\n",
              "</table>\n",
              "</div>"
            ],
            "text/plain": [
              "                        0                                                  1  \\\n",
              "0  [30/01/14, 11:02:57 PM   ‎Adamya Rajput changed the subject to “Richa ...   \n",
              "1   [31/01/14, 3:09:54 AM                           ‎Adamya Rajput was added   \n",
              "\n",
              "  trash              date_time  \n",
              "0        30/01/14, 11:02:57 PM  \n",
              "1         31/01/14, 3:09:54 AM  "
            ]
          },
          "metadata": {
            "tags": []
          },
          "execution_count": 19
        }
      ]
    },
    {
      "metadata": {
        "id": "RMILEJ12w3HN",
        "colab_type": "code",
        "colab": {
          "autoexec": {
            "startup": false,
            "wait_interval": 0
          }
        }
      },
      "cell_type": "code",
      "source": [
        "df = df.dropna()"
      ],
      "execution_count": 0,
      "outputs": []
    },
    {
      "metadata": {
        "id": "5fNfJ1LPu2f3",
        "colab_type": "code",
        "colab": {
          "autoexec": {
            "startup": false,
            "wait_interval": 0
          }
        }
      },
      "cell_type": "code",
      "source": [
        "# splitting name from column 1 to name\n",
        "df[[\"name\",\"text\"]] = pd.DataFrame(df[1].str.split(':',1).tolist(),index=df.index)"
      ],
      "execution_count": 0,
      "outputs": []
    },
    {
      "metadata": {
        "id": "zDnp-2UlHkJG",
        "colab_type": "code",
        "colab": {
          "autoexec": {
            "startup": false,
            "wait_interval": 0
          },
          "base_uri": "https://localhost:8080/",
          "height": 112
        },
        "outputId": "dda96910-da67-4574-86f6-1a69f31e7354",
        "executionInfo": {
          "status": "ok",
          "timestamp": 1530788795836,
          "user_tz": -330,
          "elapsed": 773,
          "user": {
            "displayName": "Suyash Gulati",
            "photoUrl": "https://lh3.googleusercontent.com/a/default-user=s128",
            "userId": "105838867624346791498"
          }
        }
      },
      "cell_type": "code",
      "source": [
        "df.head(2)"
      ],
      "execution_count": 22,
      "outputs": [
        {
          "output_type": "execute_result",
          "data": {
            "text/html": [
              "<div>\n",
              "<style scoped>\n",
              "    .dataframe tbody tr th:only-of-type {\n",
              "        vertical-align: middle;\n",
              "    }\n",
              "\n",
              "    .dataframe tbody tr th {\n",
              "        vertical-align: top;\n",
              "    }\n",
              "\n",
              "    .dataframe thead th {\n",
              "        text-align: right;\n",
              "    }\n",
              "</style>\n",
              "<table border=\"1\" class=\"dataframe\">\n",
              "  <thead>\n",
              "    <tr style=\"text-align: right;\">\n",
              "      <th></th>\n",
              "      <th>0</th>\n",
              "      <th>1</th>\n",
              "      <th>trash</th>\n",
              "      <th>date_time</th>\n",
              "      <th>name</th>\n",
              "      <th>text</th>\n",
              "    </tr>\n",
              "  </thead>\n",
              "  <tbody>\n",
              "    <tr>\n",
              "      <th>0</th>\n",
              "      <td>[30/01/14, 11:02:57 PM</td>\n",
              "      <td>‎Adamya Rajput changed the subject to “Richa ...</td>\n",
              "      <td></td>\n",
              "      <td>30/01/14, 11:02:57 PM</td>\n",
              "      <td>‎Adamya Rajput changed the subject to “Richa ...</td>\n",
              "      <td>None</td>\n",
              "    </tr>\n",
              "    <tr>\n",
              "      <th>1</th>\n",
              "      <td>[31/01/14, 3:09:54 AM</td>\n",
              "      <td>‎Adamya Rajput was added</td>\n",
              "      <td></td>\n",
              "      <td>31/01/14, 3:09:54 AM</td>\n",
              "      <td>‎Adamya Rajput was added</td>\n",
              "      <td>None</td>\n",
              "    </tr>\n",
              "  </tbody>\n",
              "</table>\n",
              "</div>"
            ],
            "text/plain": [
              "                        0                                                  1  \\\n",
              "0  [30/01/14, 11:02:57 PM   ‎Adamya Rajput changed the subject to “Richa ...   \n",
              "1   [31/01/14, 3:09:54 AM                           ‎Adamya Rajput was added   \n",
              "\n",
              "  trash              date_time  \\\n",
              "0        30/01/14, 11:02:57 PM   \n",
              "1         31/01/14, 3:09:54 AM   \n",
              "\n",
              "                                                name  text  \n",
              "0   ‎Adamya Rajput changed the subject to “Richa ...  None  \n",
              "1                           ‎Adamya Rajput was added  None  "
            ]
          },
          "metadata": {
            "tags": []
          },
          "execution_count": 22
        }
      ]
    },
    {
      "metadata": {
        "id": "JqAo-S8BxInl",
        "colab_type": "code",
        "colab": {
          "autoexec": {
            "startup": false,
            "wait_interval": 0
          }
        }
      },
      "cell_type": "code",
      "source": [
        "df = df.dropna()"
      ],
      "execution_count": 0,
      "outputs": []
    },
    {
      "metadata": {
        "id": "yng7qKGBxVOL",
        "colab_type": "code",
        "colab": {
          "autoexec": {
            "startup": false,
            "wait_interval": 0
          }
        }
      },
      "cell_type": "code",
      "source": [
        "df = df.drop([0,1,\"trash\"],axis = 1)"
      ],
      "execution_count": 0,
      "outputs": []
    },
    {
      "metadata": {
        "id": "PepCPvGMH4c7",
        "colab_type": "code",
        "colab": {
          "autoexec": {
            "startup": false,
            "wait_interval": 0
          },
          "base_uri": "https://localhost:8080/",
          "height": 112
        },
        "outputId": "4fbe77e4-7b11-4ff3-804c-f2f652166b5a",
        "executionInfo": {
          "status": "ok",
          "timestamp": 1530788814849,
          "user_tz": -330,
          "elapsed": 819,
          "user": {
            "displayName": "Suyash Gulati",
            "photoUrl": "https://lh3.googleusercontent.com/a/default-user=s128",
            "userId": "105838867624346791498"
          }
        }
      },
      "cell_type": "code",
      "source": [
        "df.head(2)"
      ],
      "execution_count": 25,
      "outputs": [
        {
          "output_type": "execute_result",
          "data": {
            "text/html": [
              "<div>\n",
              "<style scoped>\n",
              "    .dataframe tbody tr th:only-of-type {\n",
              "        vertical-align: middle;\n",
              "    }\n",
              "\n",
              "    .dataframe tbody tr th {\n",
              "        vertical-align: top;\n",
              "    }\n",
              "\n",
              "    .dataframe thead th {\n",
              "        text-align: right;\n",
              "    }\n",
              "</style>\n",
              "<table border=\"1\" class=\"dataframe\">\n",
              "  <thead>\n",
              "    <tr style=\"text-align: right;\">\n",
              "      <th></th>\n",
              "      <th>date_time</th>\n",
              "      <th>name</th>\n",
              "      <th>text</th>\n",
              "    </tr>\n",
              "  </thead>\n",
              "  <tbody>\n",
              "    <tr>\n",
              "      <th>3</th>\n",
              "      <td>30/01/14, 11:04:08 PM</td>\n",
              "      <td>Adamya Rajput</td>\n",
              "      <td>Pics bhejo bc exp 1 and 2 ki</td>\n",
              "    </tr>\n",
              "    <tr>\n",
              "      <th>9</th>\n",
              "      <td>30/01/14, 11:05:45 PM</td>\n",
              "      <td>Bhandu</td>\n",
              "      <td>&lt;‎image omitted&gt;</td>\n",
              "    </tr>\n",
              "  </tbody>\n",
              "</table>\n",
              "</div>"
            ],
            "text/plain": [
              "               date_time            name                           text\n",
              "3  30/01/14, 11:04:08 PM   Adamya Rajput   Pics bhejo bc exp 1 and 2 ki\n",
              "9  30/01/14, 11:05:45 PM          Bhandu               <‎image omitted>"
            ]
          },
          "metadata": {
            "tags": []
          },
          "execution_count": 25
        }
      ]
    },
    {
      "metadata": {
        "id": "r6qf8SnTx3lX",
        "colab_type": "code",
        "colab": {
          "autoexec": {
            "startup": false,
            "wait_interval": 0
          }
        }
      },
      "cell_type": "code",
      "source": [
        "# converting first column to datetime format\n",
        "df['date_time'] =  pd.to_datetime(df['date_time'],errors = \"coerce\",dayfirst = True)"
      ],
      "execution_count": 0,
      "outputs": []
    },
    {
      "metadata": {
        "id": "-N2U6S_GIDzx",
        "colab_type": "code",
        "colab": {
          "autoexec": {
            "startup": false,
            "wait_interval": 0
          },
          "base_uri": "https://localhost:8080/",
          "height": 112
        },
        "outputId": "c08a9627-660c-4cb7-d752-4c5110f79fc8",
        "executionInfo": {
          "status": "ok",
          "timestamp": 1530788877158,
          "user_tz": -330,
          "elapsed": 1016,
          "user": {
            "displayName": "Suyash Gulati",
            "photoUrl": "https://lh3.googleusercontent.com/a/default-user=s128",
            "userId": "105838867624346791498"
          }
        }
      },
      "cell_type": "code",
      "source": [
        "df.head(2)"
      ],
      "execution_count": 27,
      "outputs": [
        {
          "output_type": "execute_result",
          "data": {
            "text/html": [
              "<div>\n",
              "<style scoped>\n",
              "    .dataframe tbody tr th:only-of-type {\n",
              "        vertical-align: middle;\n",
              "    }\n",
              "\n",
              "    .dataframe tbody tr th {\n",
              "        vertical-align: top;\n",
              "    }\n",
              "\n",
              "    .dataframe thead th {\n",
              "        text-align: right;\n",
              "    }\n",
              "</style>\n",
              "<table border=\"1\" class=\"dataframe\">\n",
              "  <thead>\n",
              "    <tr style=\"text-align: right;\">\n",
              "      <th></th>\n",
              "      <th>date_time</th>\n",
              "      <th>name</th>\n",
              "      <th>text</th>\n",
              "    </tr>\n",
              "  </thead>\n",
              "  <tbody>\n",
              "    <tr>\n",
              "      <th>3</th>\n",
              "      <td>2014-01-30 23:04:08</td>\n",
              "      <td>Adamya Rajput</td>\n",
              "      <td>Pics bhejo bc exp 1 and 2 ki</td>\n",
              "    </tr>\n",
              "    <tr>\n",
              "      <th>9</th>\n",
              "      <td>2014-01-30 23:05:45</td>\n",
              "      <td>Bhandu</td>\n",
              "      <td>&lt;‎image omitted&gt;</td>\n",
              "    </tr>\n",
              "  </tbody>\n",
              "</table>\n",
              "</div>"
            ],
            "text/plain": [
              "            date_time            name                           text\n",
              "3 2014-01-30 23:04:08   Adamya Rajput   Pics bhejo bc exp 1 and 2 ki\n",
              "9 2014-01-30 23:05:45          Bhandu               <‎image omitted>"
            ]
          },
          "metadata": {
            "tags": []
          },
          "execution_count": 27
        }
      ]
    },
    {
      "metadata": {
        "id": "XwpEDOhLAUR1",
        "colab_type": "code",
        "colab": {
          "autoexec": {
            "startup": false,
            "wait_interval": 0
          }
        }
      },
      "cell_type": "code",
      "source": [
        "# stripping name and text column to remove whitespaces from start and end\n",
        "\n",
        "def strip(x):\n",
        "  stripped = x.strip()\n",
        "  return stripped\n",
        "\n",
        "df['name'] = df[[\"name\"]].apply(lambda x: strip(*x), axis=1)\n",
        "df['text'] = df[[\"text\"]].apply(lambda x: strip(*x), axis=1)"
      ],
      "execution_count": 0,
      "outputs": []
    },
    {
      "metadata": {
        "id": "KhrUNhZQzUOp",
        "colab_type": "code",
        "colab": {
          "autoexec": {
            "startup": false,
            "wait_interval": 0
          },
          "base_uri": "https://localhost:8080/",
          "height": 203
        },
        "outputId": "68619412-5ddd-4f09-ccdf-584fc105606d",
        "executionInfo": {
          "status": "ok",
          "timestamp": 1530788891268,
          "user_tz": -330,
          "elapsed": 788,
          "user": {
            "displayName": "Suyash Gulati",
            "photoUrl": "https://lh3.googleusercontent.com/a/default-user=s128",
            "userId": "105838867624346791498"
          }
        }
      },
      "cell_type": "code",
      "source": [
        "df.name.unique()"
      ],
      "execution_count": 29,
      "outputs": [
        {
          "output_type": "execute_result",
          "data": {
            "text/plain": [
              "array(['Adamya Rajput', 'Bhandu', '\\u202a+91\\xa088265\\xa089841\\u202c',\n",
              "       'rajit', 'Sukhman', 'Mayank', 'Suyash', 'SCOOBY',\n",
              "       '\\u202a+91\\xa084472\\xa005046\\u202c', 'Sourabh Singhal',\n",
              "       '\\u202a+91 91 65 020604\\u202c', 'Enzo', 'Shady', 'archu',\n",
              "       'Shriram Yadav', 'MANDU GJU', 'Kallu',\n",
              "       '\\u202a+91\\xa096542\\xa092717\\u202c', 'Meena',\n",
              "       'The Billionaires Club 🤑',\n",
              "       '\\u200eSuyash changed the subject to “Our bitch', 'Raman Deora',\n",
              "       '\\u202a+971\\xa050\\xa0132\\xa07301\\u202c', 'sukhman Canada',\n",
              "       'the complete digital marketing course* - https'], dtype=object)"
            ]
          },
          "metadata": {
            "tags": []
          },
          "execution_count": 29
        }
      ]
    },
    {
      "metadata": {
        "id": "7Ba-ZE-KAi7g",
        "colab_type": "code",
        "colab": {
          "autoexec": {
            "startup": false,
            "wait_interval": 0
          },
          "base_uri": "https://localhost:8080/",
          "height": 54
        },
        "outputId": "7ec9b053-8336-4aad-97b8-55073ca6c5de",
        "executionInfo": {
          "status": "ok",
          "timestamp": 1530788895940,
          "user_tz": -330,
          "elapsed": 763,
          "user": {
            "displayName": "Suyash Gulati",
            "photoUrl": "https://lh3.googleusercontent.com/a/default-user=s128",
            "userId": "105838867624346791498"
          }
        }
      },
      "cell_type": "code",
      "source": [
        "# merging known names together and unknown names to value 1 to remove later\n",
        "\n",
        "df['name'].replace('Sourabh Singhal', 'SCOOBY',inplace=True)\n",
        "df['name'].replace('sukhman Canada', 'Sukhman',inplace=True)\n",
        "df.replace({'name' : { '\\u202a+91\\xa088265\\xa089841\\u202c' : \"Meena\", '\\u202a+91\\xa084472\\xa005046\\u202c' : 1,\n",
        "                      '\\u202a+91 91 65 020604\\u202c' : 1,'Enzo' : 1, 'Shriram Yadav' : 1, 'MANDU GJU' : 1,\n",
        "                     'Kallu' : 1,'\\u202a+91\\xa096542\\xa092717\\u202c' : 1, 'The Billionaires Club 🤑' : 1, '\\u200eSuyash changed the subject to “Our bitch' : 1,\n",
        "                     '\\u202a+971\\xa050\\xa0132\\xa07301\\u202c' : 1,'the complete digital marketing course* - https' : 1, \"archu\" : 1}},inplace=True)\n",
        "df.name.unique()"
      ],
      "execution_count": 30,
      "outputs": [
        {
          "output_type": "execute_result",
          "data": {
            "text/plain": [
              "array(['Adamya Rajput', 'Bhandu', 'Meena', 'rajit', 'Sukhman', 'Mayank',\n",
              "       'Suyash', 'SCOOBY', 1, 'Shady', 'Raman Deora'], dtype=object)"
            ]
          },
          "metadata": {
            "tags": []
          },
          "execution_count": 30
        }
      ]
    },
    {
      "metadata": {
        "id": "7UEG5Jn6EocY",
        "colab_type": "code",
        "colab": {
          "autoexec": {
            "startup": false,
            "wait_interval": 0
          }
        }
      },
      "cell_type": "code",
      "source": [
        "# removing names with value 1\n",
        "\n",
        "df = df[df[\"name\"] != 1]"
      ],
      "execution_count": 0,
      "outputs": []
    },
    {
      "metadata": {
        "id": "eXYXbePbL85m",
        "colab_type": "code",
        "colab": {
          "autoexec": {
            "startup": false,
            "wait_interval": 0
          },
          "base_uri": "https://localhost:8080/",
          "height": 206
        },
        "outputId": "f90ef00f-acb9-4033-fd3c-0799c81f9383",
        "executionInfo": {
          "status": "ok",
          "timestamp": 1530788899536,
          "user_tz": -330,
          "elapsed": 1116,
          "user": {
            "displayName": "Suyash Gulati",
            "photoUrl": "https://lh3.googleusercontent.com/a/default-user=s128",
            "userId": "105838867624346791498"
          }
        }
      },
      "cell_type": "code",
      "source": [
        "df.head()"
      ],
      "execution_count": 32,
      "outputs": [
        {
          "output_type": "execute_result",
          "data": {
            "text/html": [
              "<div>\n",
              "<style scoped>\n",
              "    .dataframe tbody tr th:only-of-type {\n",
              "        vertical-align: middle;\n",
              "    }\n",
              "\n",
              "    .dataframe tbody tr th {\n",
              "        vertical-align: top;\n",
              "    }\n",
              "\n",
              "    .dataframe thead th {\n",
              "        text-align: right;\n",
              "    }\n",
              "</style>\n",
              "<table border=\"1\" class=\"dataframe\">\n",
              "  <thead>\n",
              "    <tr style=\"text-align: right;\">\n",
              "      <th></th>\n",
              "      <th>date_time</th>\n",
              "      <th>name</th>\n",
              "      <th>text</th>\n",
              "    </tr>\n",
              "  </thead>\n",
              "  <tbody>\n",
              "    <tr>\n",
              "      <th>3</th>\n",
              "      <td>2014-01-30 23:04:08</td>\n",
              "      <td>Adamya Rajput</td>\n",
              "      <td>Pics bhejo bc exp 1 and 2 ki</td>\n",
              "    </tr>\n",
              "    <tr>\n",
              "      <th>9</th>\n",
              "      <td>2014-01-30 23:05:45</td>\n",
              "      <td>Bhandu</td>\n",
              "      <td>&lt;‎image omitted&gt;</td>\n",
              "    </tr>\n",
              "    <tr>\n",
              "      <th>10</th>\n",
              "      <td>2014-01-30 23:05:45</td>\n",
              "      <td>Bhandu</td>\n",
              "      <td>&lt;‎image omitted&gt;</td>\n",
              "    </tr>\n",
              "    <tr>\n",
              "      <th>11</th>\n",
              "      <td>2014-01-30 23:05:46</td>\n",
              "      <td>Bhandu</td>\n",
              "      <td>&lt;‎image omitted&gt;</td>\n",
              "    </tr>\n",
              "    <tr>\n",
              "      <th>12</th>\n",
              "      <td>2014-01-30 23:05:46</td>\n",
              "      <td>Bhandu</td>\n",
              "      <td>&lt;‎image omitted&gt;</td>\n",
              "    </tr>\n",
              "  </tbody>\n",
              "</table>\n",
              "</div>"
            ],
            "text/plain": [
              "             date_time           name                          text\n",
              "3  2014-01-30 23:04:08  Adamya Rajput  Pics bhejo bc exp 1 and 2 ki\n",
              "9  2014-01-30 23:05:45         Bhandu              <‎image omitted>\n",
              "10 2014-01-30 23:05:45         Bhandu              <‎image omitted>\n",
              "11 2014-01-30 23:05:46         Bhandu              <‎image omitted>\n",
              "12 2014-01-30 23:05:46         Bhandu              <‎image omitted>"
            ]
          },
          "metadata": {
            "tags": []
          },
          "execution_count": 32
        }
      ]
    },
    {
      "metadata": {
        "id": "K3lTvHRHL_Gu",
        "colab_type": "code",
        "colab": {
          "autoexec": {
            "startup": false,
            "wait_interval": 0
          }
        }
      },
      "cell_type": "code",
      "source": [
        "cursing = [\"bc\" , \"mc\" , \"gand\", \"chut\",\"chod\",\"lund\",\"laude\",\"rand\",\"cunt\",\"fuck\",\"tutta\",\"choot\",\"bhosd\",\"lavde\",\"bsdk\"]"
      ],
      "execution_count": 0,
      "outputs": []
    },
    {
      "metadata": {
        "id": "ea_7b7HD9rwX",
        "colab_type": "code",
        "colab": {
          "autoexec": {
            "startup": false,
            "wait_interval": 0
          }
        }
      },
      "cell_type": "code",
      "source": [
        "# checking if text has bad words\n",
        "\n",
        "df['cursing'] = df[\"text\"].str.lower().str.contains('|'.join(cursing))"
      ],
      "execution_count": 0,
      "outputs": []
    },
    {
      "metadata": {
        "id": "PIuQ-RC5-JI0",
        "colab_type": "code",
        "colab": {
          "autoexec": {
            "startup": false,
            "wait_interval": 0
          },
          "base_uri": "https://localhost:8080/",
          "height": 206
        },
        "outputId": "d22e5a93-abdb-4fa8-87e0-efd3c59941e0",
        "executionInfo": {
          "status": "ok",
          "timestamp": 1530788933241,
          "user_tz": -330,
          "elapsed": 756,
          "user": {
            "displayName": "Suyash Gulati",
            "photoUrl": "https://lh3.googleusercontent.com/a/default-user=s128",
            "userId": "105838867624346791498"
          }
        }
      },
      "cell_type": "code",
      "source": [
        "df.head()"
      ],
      "execution_count": 35,
      "outputs": [
        {
          "output_type": "execute_result",
          "data": {
            "text/html": [
              "<div>\n",
              "<style scoped>\n",
              "    .dataframe tbody tr th:only-of-type {\n",
              "        vertical-align: middle;\n",
              "    }\n",
              "\n",
              "    .dataframe tbody tr th {\n",
              "        vertical-align: top;\n",
              "    }\n",
              "\n",
              "    .dataframe thead th {\n",
              "        text-align: right;\n",
              "    }\n",
              "</style>\n",
              "<table border=\"1\" class=\"dataframe\">\n",
              "  <thead>\n",
              "    <tr style=\"text-align: right;\">\n",
              "      <th></th>\n",
              "      <th>date_time</th>\n",
              "      <th>name</th>\n",
              "      <th>text</th>\n",
              "      <th>cursing</th>\n",
              "    </tr>\n",
              "  </thead>\n",
              "  <tbody>\n",
              "    <tr>\n",
              "      <th>3</th>\n",
              "      <td>2014-01-30 23:04:08</td>\n",
              "      <td>Adamya Rajput</td>\n",
              "      <td>Pics bhejo bc exp 1 and 2 ki</td>\n",
              "      <td>True</td>\n",
              "    </tr>\n",
              "    <tr>\n",
              "      <th>9</th>\n",
              "      <td>2014-01-30 23:05:45</td>\n",
              "      <td>Bhandu</td>\n",
              "      <td>&lt;‎image omitted&gt;</td>\n",
              "      <td>False</td>\n",
              "    </tr>\n",
              "    <tr>\n",
              "      <th>10</th>\n",
              "      <td>2014-01-30 23:05:45</td>\n",
              "      <td>Bhandu</td>\n",
              "      <td>&lt;‎image omitted&gt;</td>\n",
              "      <td>False</td>\n",
              "    </tr>\n",
              "    <tr>\n",
              "      <th>11</th>\n",
              "      <td>2014-01-30 23:05:46</td>\n",
              "      <td>Bhandu</td>\n",
              "      <td>&lt;‎image omitted&gt;</td>\n",
              "      <td>False</td>\n",
              "    </tr>\n",
              "    <tr>\n",
              "      <th>12</th>\n",
              "      <td>2014-01-30 23:05:46</td>\n",
              "      <td>Bhandu</td>\n",
              "      <td>&lt;‎image omitted&gt;</td>\n",
              "      <td>False</td>\n",
              "    </tr>\n",
              "  </tbody>\n",
              "</table>\n",
              "</div>"
            ],
            "text/plain": [
              "             date_time           name                          text  cursing\n",
              "3  2014-01-30 23:04:08  Adamya Rajput  Pics bhejo bc exp 1 and 2 ki     True\n",
              "9  2014-01-30 23:05:45         Bhandu              <‎image omitted>    False\n",
              "10 2014-01-30 23:05:45         Bhandu              <‎image omitted>    False\n",
              "11 2014-01-30 23:05:46         Bhandu              <‎image omitted>    False\n",
              "12 2014-01-30 23:05:46         Bhandu              <‎image omitted>    False"
            ]
          },
          "metadata": {
            "tags": []
          },
          "execution_count": 35
        }
      ]
    },
    {
      "metadata": {
        "id": "JIV7slpx-2xp",
        "colab_type": "code",
        "colab": {
          "autoexec": {
            "startup": false,
            "wait_interval": 0
          }
        }
      },
      "cell_type": "code",
      "source": [
        "multimedia = [\"omitted>\" , \"http\" , \"www.\"]"
      ],
      "execution_count": 0,
      "outputs": []
    },
    {
      "metadata": {
        "id": "GWnQxeEeo3GU",
        "colab_type": "code",
        "colab": {
          "autoexec": {
            "startup": false,
            "wait_interval": 0
          }
        }
      },
      "cell_type": "code",
      "source": [
        "# checking text have some link or is showing default text for media shared\n",
        "\n",
        "df['multi'] = df[\"text\"].str.lower().str.contains('|'.join(multimedia))"
      ],
      "execution_count": 0,
      "outputs": []
    },
    {
      "metadata": {
        "id": "XVDJ-mYKo7xj",
        "colab_type": "code",
        "colab": {
          "autoexec": {
            "startup": false,
            "wait_interval": 0
          },
          "base_uri": "https://localhost:8080/",
          "height": 206
        },
        "outputId": "b4b53f43-e2e4-4068-f357-d11c4a65fd35",
        "executionInfo": {
          "status": "ok",
          "timestamp": 1530788942164,
          "user_tz": -330,
          "elapsed": 1031,
          "user": {
            "displayName": "Suyash Gulati",
            "photoUrl": "https://lh3.googleusercontent.com/a/default-user=s128",
            "userId": "105838867624346791498"
          }
        }
      },
      "cell_type": "code",
      "source": [
        "df.head()"
      ],
      "execution_count": 38,
      "outputs": [
        {
          "output_type": "execute_result",
          "data": {
            "text/html": [
              "<div>\n",
              "<style scoped>\n",
              "    .dataframe tbody tr th:only-of-type {\n",
              "        vertical-align: middle;\n",
              "    }\n",
              "\n",
              "    .dataframe tbody tr th {\n",
              "        vertical-align: top;\n",
              "    }\n",
              "\n",
              "    .dataframe thead th {\n",
              "        text-align: right;\n",
              "    }\n",
              "</style>\n",
              "<table border=\"1\" class=\"dataframe\">\n",
              "  <thead>\n",
              "    <tr style=\"text-align: right;\">\n",
              "      <th></th>\n",
              "      <th>date_time</th>\n",
              "      <th>name</th>\n",
              "      <th>text</th>\n",
              "      <th>cursing</th>\n",
              "      <th>multi</th>\n",
              "    </tr>\n",
              "  </thead>\n",
              "  <tbody>\n",
              "    <tr>\n",
              "      <th>3</th>\n",
              "      <td>2014-01-30 23:04:08</td>\n",
              "      <td>Adamya Rajput</td>\n",
              "      <td>Pics bhejo bc exp 1 and 2 ki</td>\n",
              "      <td>True</td>\n",
              "      <td>False</td>\n",
              "    </tr>\n",
              "    <tr>\n",
              "      <th>9</th>\n",
              "      <td>2014-01-30 23:05:45</td>\n",
              "      <td>Bhandu</td>\n",
              "      <td>&lt;‎image omitted&gt;</td>\n",
              "      <td>False</td>\n",
              "      <td>True</td>\n",
              "    </tr>\n",
              "    <tr>\n",
              "      <th>10</th>\n",
              "      <td>2014-01-30 23:05:45</td>\n",
              "      <td>Bhandu</td>\n",
              "      <td>&lt;‎image omitted&gt;</td>\n",
              "      <td>False</td>\n",
              "      <td>True</td>\n",
              "    </tr>\n",
              "    <tr>\n",
              "      <th>11</th>\n",
              "      <td>2014-01-30 23:05:46</td>\n",
              "      <td>Bhandu</td>\n",
              "      <td>&lt;‎image omitted&gt;</td>\n",
              "      <td>False</td>\n",
              "      <td>True</td>\n",
              "    </tr>\n",
              "    <tr>\n",
              "      <th>12</th>\n",
              "      <td>2014-01-30 23:05:46</td>\n",
              "      <td>Bhandu</td>\n",
              "      <td>&lt;‎image omitted&gt;</td>\n",
              "      <td>False</td>\n",
              "      <td>True</td>\n",
              "    </tr>\n",
              "  </tbody>\n",
              "</table>\n",
              "</div>"
            ],
            "text/plain": [
              "             date_time           name                          text  cursing  \\\n",
              "3  2014-01-30 23:04:08  Adamya Rajput  Pics bhejo bc exp 1 and 2 ki     True   \n",
              "9  2014-01-30 23:05:45         Bhandu              <‎image omitted>    False   \n",
              "10 2014-01-30 23:05:45         Bhandu              <‎image omitted>    False   \n",
              "11 2014-01-30 23:05:46         Bhandu              <‎image omitted>    False   \n",
              "12 2014-01-30 23:05:46         Bhandu              <‎image omitted>    False   \n",
              "\n",
              "    multi  \n",
              "3   False  \n",
              "9    True  \n",
              "10   True  \n",
              "11   True  \n",
              "12   True  "
            ]
          },
          "metadata": {
            "tags": []
          },
          "execution_count": 38
        }
      ]
    },
    {
      "metadata": {
        "id": "6vOgjYC1o-JQ",
        "colab_type": "code",
        "colab": {
          "autoexec": {
            "startup": false,
            "wait_interval": 0
          },
          "base_uri": "https://localhost:8080/",
          "height": 0
        },
        "outputId": "d6df5017-cce3-4f90-ff86-50792e1cde6f",
        "executionInfo": {
          "status": "ok",
          "timestamp": 1530730614169,
          "user_tz": -330,
          "elapsed": 12912,
          "user": {
            "displayName": "Suyash Gulati",
            "photoUrl": "https://lh3.googleusercontent.com/a/default-user=s128",
            "userId": "105838867624346791498"
          }
        }
      },
      "cell_type": "code",
      "source": [
        "df.to_csv(\"drive/app/Misc/whatsapp/analysis/clean_text.csv\",index=False,encoding='utf-8-sig')"
      ],
      "execution_count": 56,
      "outputs": []
    },
    {
      "metadata": {
        "id": "ZsSpIF4pp1pV",
        "colab_type": "code",
        "colab": {
          "autoexec": {
            "startup": false,
            "wait_interval": 0
          },
          "base_uri": "https://localhost:8080/",
          "height": 36
        },
        "outputId": "7801346c-7f21-4fc8-f090-0ae323225432",
        "executionInfo": {
          "status": "ok",
          "timestamp": 1530734971060,
          "user_tz": -330,
          "elapsed": 1835,
          "user": {
            "displayName": "Suyash Gulati",
            "photoUrl": "https://lh3.googleusercontent.com/a/default-user=s128",
            "userId": "105838867624346791498"
          }
        }
      },
      "cell_type": "code",
      "source": [
        "df[df[\"name\"] == \"Meena\"].shape"
      ],
      "execution_count": 58,
      "outputs": [
        {
          "output_type": "execute_result",
          "data": {
            "text/plain": [
              "(23615, 5)"
            ]
          },
          "metadata": {
            "tags": []
          },
          "execution_count": 58
        }
      ]
    },
    {
      "metadata": {
        "id": "zv5TLeI70eXe",
        "colab_type": "code",
        "colab": {
          "autoexec": {
            "startup": false,
            "wait_interval": 0
          },
          "base_uri": "https://localhost:8080/",
          "height": 36
        },
        "outputId": "582baf1d-1fec-420b-9796-1e42183365ab",
        "executionInfo": {
          "status": "ok",
          "timestamp": 1530738239497,
          "user_tz": -330,
          "elapsed": 1017,
          "user": {
            "displayName": "Suyash Gulati",
            "photoUrl": "https://lh3.googleusercontent.com/a/default-user=s128",
            "userId": "105838867624346791498"
          }
        }
      },
      "cell_type": "code",
      "source": [
        "df[(df[\"name\"] == \"Meena\") & (df[\"cursing\"] == True)].shape"
      ],
      "execution_count": 63,
      "outputs": [
        {
          "output_type": "execute_result",
          "data": {
            "text/plain": [
              "(2588, 5)"
            ]
          },
          "metadata": {
            "tags": []
          },
          "execution_count": 63
        }
      ]
    },
    {
      "metadata": {
        "id": "fHrwX8RS6vPE",
        "colab_type": "code",
        "colab": {
          "autoexec": {
            "startup": false,
            "wait_interval": 0
          }
        }
      },
      "cell_type": "code",
      "source": [
        ""
      ],
      "execution_count": 0,
      "outputs": []
    }
  ]
}