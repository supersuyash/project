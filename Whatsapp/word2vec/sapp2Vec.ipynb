{
  "nbformat": 4,
  "nbformat_minor": 0,
  "metadata": {
    "colab": {
      "name": "sapp2Vec.ipynb",
      "version": "0.3.2",
      "views": {},
      "default_view": {},
      "provenance": []
    },
    "kernelspec": {
      "name": "python3",
      "display_name": "Python 3"
    },
    "accelerator": "GPU"
  },
  "cells": [
    {
      "metadata": {
        "id": "sQFfQBedoOcZ",
        "colab_type": "code",
        "colab": {
          "autoexec": {
            "startup": false,
            "wait_interval": 0
          },
          "base_uri": "https://localhost:8080/"
        },
        "outputId": "eed89fbb-03cc-42e7-83db-1f3fe793db44"
      },
      "cell_type": "code",
      "source": [
        "!ls"
      ],
      "execution_count": 0,
      "outputs": []
    },
    {
      "metadata": {
        "id": "X_Rh3CbAoLsS",
        "colab_type": "code",
        "colab": {
          "autoexec": {
            "startup": false,
            "wait_interval": 0
          },
          "base_uri": "https://localhost:8080/",
          "height": 17
        },
        "outputId": "5e26ae4c-e374-4b4f-f960-ad07dc62a217",
        "executionInfo": {
          "status": "ok",
          "timestamp": 1530740064174,
          "user_tz": -330,
          "elapsed": 5206,
          "user": {
            "displayName": "Suyash Gulati",
            "photoUrl": "https://lh3.googleusercontent.com/a/default-user=s128",
            "userId": "105838867624346791498"
          }
        }
      },
      "cell_type": "code",
      "source": [
        "from __future__ import absolute_import, division, print_function"
      ],
      "execution_count": 1,
      "outputs": []
    },
    {
      "metadata": {
        "id": "VbyvTxM6oLsh",
        "colab_type": "code",
        "colab": {
          "autoexec": {
            "startup": false,
            "wait_interval": 0
          },
          "base_uri": "https://localhost:8080/",
          "height": 798
        },
        "outputId": "88bccbb1-8c03-4313-c715-e46fb1c10d36",
        "executionInfo": {
          "status": "ok",
          "timestamp": 1530557209530,
          "user_tz": -330,
          "elapsed": 12863,
          "user": {
            "displayName": "Suyash Gulati",
            "photoUrl": "https://lh3.googleusercontent.com/a/default-user=s128",
            "userId": "113728651416421705255"
          }
        }
      },
      "cell_type": "code",
      "source": [
        "!pip install gensim"
      ],
      "execution_count": 3,
      "outputs": [
        {
          "output_type": "stream",
          "text": [
            "Collecting gensim\n",
            "\u001b[?25l  Downloading https://files.pythonhosted.org/packages/33/33/df6cb7acdcec5677ed130f4800f67509d24dbec74a03c329fcbf6b0864f0/gensim-3.4.0-cp36-cp36m-manylinux1_x86_64.whl (22.6MB)\n",
            "\u001b[K    100% |████████████████████████████████| 22.6MB 1.8MB/s \n",
            "\u001b[?25hCollecting smart-open>=1.2.1 (from gensim)\n",
            "  Downloading https://files.pythonhosted.org/packages/cf/3d/5f3a9a296d0ba8e00e263a8dee76762076b9eb5ddc254ccaa834651c8d65/smart_open-1.6.0.tar.gz\n",
            "Requirement already satisfied: scipy>=0.18.1 in /usr/local/lib/python3.6/dist-packages (from gensim) (0.19.1)\n",
            "Requirement already satisfied: numpy>=1.11.3 in /usr/local/lib/python3.6/dist-packages (from gensim) (1.14.5)\n",
            "Requirement already satisfied: six>=1.5.0 in /usr/local/lib/python3.6/dist-packages (from gensim) (1.11.0)\n",
            "Collecting boto>=2.32 (from smart-open>=1.2.1->gensim)\n",
            "\u001b[?25l  Downloading https://files.pythonhosted.org/packages/bd/b7/a88a67002b1185ed9a8e8a6ef15266728c2361fcb4f1d02ea331e4c7741d/boto-2.48.0-py2.py3-none-any.whl (1.4MB)\n",
            "\u001b[K    100% |████████████████████████████████| 1.4MB 11.9MB/s \n",
            "\u001b[?25hCollecting bz2file (from smart-open>=1.2.1->gensim)\n",
            "  Downloading https://files.pythonhosted.org/packages/61/39/122222b5e85cd41c391b68a99ee296584b2a2d1d233e7ee32b4532384f2d/bz2file-0.98.tar.gz\n",
            "Requirement already satisfied: requests in /usr/local/lib/python3.6/dist-packages (from smart-open>=1.2.1->gensim) (2.18.4)\n",
            "Collecting boto3 (from smart-open>=1.2.1->gensim)\n",
            "\u001b[?25l  Downloading https://files.pythonhosted.org/packages/17/18/7d71d17ad31dc7faa5e25cada1d9876a3f85abdbfa9a599f76bc074b60d7/boto3-1.7.48-py2.py3-none-any.whl (128kB)\n",
            "\u001b[K    100% |████████████████████████████████| 133kB 18.8MB/s \n",
            "\u001b[?25hRequirement already satisfied: chardet<3.1.0,>=3.0.2 in /usr/local/lib/python3.6/dist-packages (from requests->smart-open>=1.2.1->gensim) (3.0.4)\n",
            "Requirement already satisfied: urllib3<1.23,>=1.21.1 in /usr/local/lib/python3.6/dist-packages (from requests->smart-open>=1.2.1->gensim) (1.22)\n",
            "Requirement already satisfied: certifi>=2017.4.17 in /usr/local/lib/python3.6/dist-packages (from requests->smart-open>=1.2.1->gensim) (2018.4.16)\n",
            "Requirement already satisfied: idna<2.7,>=2.5 in /usr/local/lib/python3.6/dist-packages (from requests->smart-open>=1.2.1->gensim) (2.6)\n",
            "Collecting jmespath<1.0.0,>=0.7.1 (from boto3->smart-open>=1.2.1->gensim)\n",
            "  Downloading https://files.pythonhosted.org/packages/b7/31/05c8d001f7f87f0f07289a5fc0fc3832e9a57f2dbd4d3b0fee70e0d51365/jmespath-0.9.3-py2.py3-none-any.whl\n",
            "Collecting s3transfer<0.2.0,>=0.1.10 (from boto3->smart-open>=1.2.1->gensim)\n",
            "\u001b[?25l  Downloading https://files.pythonhosted.org/packages/d7/14/2a0004d487464d120c9fb85313a75cd3d71a7506955be458eebfe19a6b1d/s3transfer-0.1.13-py2.py3-none-any.whl (59kB)\n",
            "\u001b[K    100% |████████████████████████████████| 61kB 16.3MB/s \n",
            "\u001b[?25hCollecting botocore<1.11.0,>=1.10.48 (from boto3->smart-open>=1.2.1->gensim)\n",
            "\u001b[?25l  Downloading https://files.pythonhosted.org/packages/0b/56/44067a8f0cae5f33007e7cbdbaac67cbd9fa598c733ad25eb8f252288fe9/botocore-1.10.48-py2.py3-none-any.whl (4.4MB)\n",
            "\u001b[K    100% |████████████████████████████████| 4.4MB 7.4MB/s \n",
            "\u001b[?25hRequirement already satisfied: python-dateutil<3.0.0,>=2.1; python_version >= \"2.7\" in /usr/local/lib/python3.6/dist-packages (from botocore<1.11.0,>=1.10.48->boto3->smart-open>=1.2.1->gensim) (2.5.3)\n",
            "Collecting docutils>=0.10 (from botocore<1.11.0,>=1.10.48->boto3->smart-open>=1.2.1->gensim)\n",
            "\u001b[?25l  Downloading https://files.pythonhosted.org/packages/36/fa/08e9e6e0e3cbd1d362c3bbee8d01d0aedb2155c4ac112b19ef3cae8eed8d/docutils-0.14-py3-none-any.whl (543kB)\n",
            "\u001b[K    100% |████████████████████████████████| 552kB 19.6MB/s \n",
            "\u001b[?25hBuilding wheels for collected packages: smart-open, bz2file\n",
            "  Running setup.py bdist_wheel for smart-open ... \u001b[?25l-\b \b\\\b \bdone\n",
            "\u001b[?25h  Stored in directory: /content/.cache/pip/wheels/73/f1/9b/ccf93d4ba073b6f79b1ed9df68ab5ce048d8136d0efcf90b30\n",
            "  Running setup.py bdist_wheel for bz2file ... \u001b[?25l-\b \bdone\n",
            "\u001b[?25h  Stored in directory: /content/.cache/pip/wheels/81/75/d6/e1317bf09bf1af5a30befc2a007869fa6e1f516b8f7c591cb9\n",
            "Successfully built smart-open bz2file\n",
            "Installing collected packages: boto, bz2file, jmespath, docutils, botocore, s3transfer, boto3, smart-open, gensim\n",
            "Successfully installed boto-2.48.0 boto3-1.7.48 botocore-1.10.48 bz2file-0.98 docutils-0.14 gensim-3.4.0 jmespath-0.9.3 s3transfer-0.1.13 smart-open-1.6.0\n"
          ],
          "name": "stdout"
        }
      ]
    },
    {
      "metadata": {
        "id": "SbiZNwR1oLsv",
        "colab_type": "code",
        "colab": {
          "autoexec": {
            "startup": false,
            "wait_interval": 0
          },
          "base_uri": "https://localhost:8080/",
          "height": 0
        },
        "outputId": "fc3b26b6-a2d8-4bd5-99cb-6d7ca3317d3b",
        "executionInfo": {
          "status": "ok",
          "timestamp": 1530740576080,
          "user_tz": -330,
          "elapsed": 908,
          "user": {
            "displayName": "Suyash Gulati",
            "photoUrl": "https://lh3.googleusercontent.com/a/default-user=s128",
            "userId": "105838867624346791498"
          }
        }
      },
      "cell_type": "code",
      "source": [
        "import codecs\n",
        "import glob\n",
        "import logging\n",
        "import multiprocessing\n",
        "import os\n",
        "import pprint\n",
        "import re"
      ],
      "execution_count": 40,
      "outputs": []
    },
    {
      "metadata": {
        "id": "32vXysNXoLs5",
        "colab_type": "code",
        "colab": {
          "autoexec": {
            "startup": false,
            "wait_interval": 0
          },
          "base_uri": "https://localhost:8080/",
          "height": 0
        },
        "outputId": "412e0709-fed3-4dec-f4a1-54d751c8f1cf",
        "executionInfo": {
          "status": "ok",
          "timestamp": 1530740579126,
          "user_tz": -330,
          "elapsed": 1586,
          "user": {
            "displayName": "Suyash Gulati",
            "photoUrl": "https://lh3.googleusercontent.com/a/default-user=s128",
            "userId": "105838867624346791498"
          }
        }
      },
      "cell_type": "code",
      "source": [
        "import nltk\n",
        "import gensim.models.word2vec as w2v\n",
        "import sklearn.manifold\n",
        "import numpy as np\n",
        "import matplotlib.pyplot as plt\n",
        "import pandas as pd\n",
        "import seaborn as sns"
      ],
      "execution_count": 41,
      "outputs": []
    },
    {
      "metadata": {
        "id": "gNdrfVx_oLtA",
        "colab_type": "code",
        "colab": {
          "autoexec": {
            "startup": false,
            "wait_interval": 0
          },
          "base_uri": "https://localhost:8080/",
          "height": 91
        },
        "outputId": "b07b9308-8172-4e93-8f7d-d9ad21deb628",
        "executionInfo": {
          "status": "ok",
          "timestamp": 1530740580875,
          "user_tz": -330,
          "elapsed": 1581,
          "user": {
            "displayName": "Suyash Gulati",
            "photoUrl": "https://lh3.googleusercontent.com/a/default-user=s128",
            "userId": "105838867624346791498"
          }
        }
      },
      "cell_type": "code",
      "source": [
        "%pylab inline"
      ],
      "execution_count": 42,
      "outputs": [
        {
          "output_type": "stream",
          "text": [
            "Populating the interactive namespace from numpy and matplotlib\n"
          ],
          "name": "stdout"
        },
        {
          "output_type": "stream",
          "text": [
            "/usr/local/lib/python3.6/dist-packages/IPython/core/magics/pylab.py:161: UserWarning: pylab import has clobbered these variables: ['seed']\n",
            "`%matplotlib` prevents importing * from pylab and numpy\n",
            "  \"\\n`%matplotlib` prevents importing * from pylab and numpy\"\n"
          ],
          "name": "stderr"
        }
      ]
    },
    {
      "metadata": {
        "id": "uZBXafA5oLtK",
        "colab_type": "code",
        "colab": {
          "autoexec": {
            "startup": false,
            "wait_interval": 0
          },
          "base_uri": "https://localhost:8080/",
          "height": 110
        },
        "outputId": "bfba447c-90b6-4535-da18-5a4339abb8a6",
        "executionInfo": {
          "status": "ok",
          "timestamp": 1530740582879,
          "user_tz": -330,
          "elapsed": 843,
          "user": {
            "displayName": "Suyash Gulati",
            "photoUrl": "https://lh3.googleusercontent.com/a/default-user=s128",
            "userId": "105838867624346791498"
          }
        }
      },
      "cell_type": "code",
      "source": [
        "nltk.download(\"punkt\")\n",
        "nltk.download(\"stopwords\")"
      ],
      "execution_count": 43,
      "outputs": [
        {
          "output_type": "stream",
          "text": [
            "[nltk_data] Downloading package punkt to /content/nltk_data...\n",
            "[nltk_data]   Package punkt is already up-to-date!\n",
            "[nltk_data] Downloading package stopwords to /content/nltk_data...\n",
            "[nltk_data]   Package stopwords is already up-to-date!\n"
          ],
          "name": "stdout"
        },
        {
          "output_type": "execute_result",
          "data": {
            "text/plain": [
              "True"
            ]
          },
          "metadata": {
            "tags": []
          },
          "execution_count": 43
        }
      ]
    },
    {
      "metadata": {
        "id": "sUVgujHGoLtS",
        "colab_type": "text"
      },
      "cell_type": "markdown",
      "source": [
        "## Prepare Corpus"
      ]
    },
    {
      "metadata": {
        "id": "g9U9DVs6oLtW",
        "colab_type": "code",
        "colab": {
          "autoexec": {
            "startup": false,
            "wait_interval": 0
          },
          "base_uri": "https://localhost:8080/",
          "height": 0
        },
        "outputId": "82df4edf-ca35-429c-fb04-77098a3fa0b0",
        "executionInfo": {
          "status": "ok",
          "timestamp": 1530740585152,
          "user_tz": -330,
          "elapsed": 1050,
          "user": {
            "displayName": "Suyash Gulati",
            "photoUrl": "https://lh3.googleusercontent.com/a/default-user=s128",
            "userId": "105838867624346791498"
          }
        }
      },
      "cell_type": "code",
      "source": [
        "chats = sorted(glob.glob(\"drive/app/Misc/whatsapp/sapp2vec/clean_text.txt\"))"
      ],
      "execution_count": 44,
      "outputs": []
    },
    {
      "metadata": {
        "id": "ZrcMzqeloLtd",
        "colab_type": "code",
        "colab": {
          "autoexec": {
            "startup": false,
            "wait_interval": 0
          },
          "base_uri": "https://localhost:8080/",
          "height": 54
        },
        "outputId": "d6ae73fa-20f0-4056-f56a-f808a61cbee5",
        "executionInfo": {
          "status": "ok",
          "timestamp": 1530740589536,
          "user_tz": -330,
          "elapsed": 898,
          "user": {
            "displayName": "Suyash Gulati",
            "photoUrl": "https://lh3.googleusercontent.com/a/default-user=s128",
            "userId": "105838867624346791498"
          }
        }
      },
      "cell_type": "code",
      "source": [
        "print(\"Found chat:\")\n",
        "chats"
      ],
      "execution_count": 45,
      "outputs": [
        {
          "output_type": "stream",
          "text": [
            "Found chat:\n"
          ],
          "name": "stdout"
        },
        {
          "output_type": "execute_result",
          "data": {
            "text/plain": [
              "['drive/app/Misc/whatsapp/sapp2vec/clean_text.txt']"
            ]
          },
          "metadata": {
            "tags": []
          },
          "execution_count": 45
        }
      ]
    },
    {
      "metadata": {
        "id": "SXEnkvxvoLt0",
        "colab_type": "code",
        "colab": {
          "autoexec": {
            "startup": false,
            "wait_interval": 0
          },
          "base_uri": "https://localhost:8080/",
          "height": 73
        },
        "outputId": "f41671b2-b967-43b0-a168-1cdbbd024b2d",
        "executionInfo": {
          "status": "ok",
          "timestamp": 1530740591279,
          "user_tz": -330,
          "elapsed": 1035,
          "user": {
            "displayName": "Suyash Gulati",
            "photoUrl": "https://lh3.googleusercontent.com/a/default-user=s128",
            "userId": "105838867624346791498"
          }
        }
      },
      "cell_type": "code",
      "source": [
        "corpus_raw = u\"\"\n",
        "for chat in chats:\n",
        "    print(\"Reading '{0}'...\".format(chat))\n",
        "    with codecs.open(chat, \"r\", \"utf-8\") as chat_file:\n",
        "        corpus_raw += chat_file.read()\n",
        "    print(\"Corpus is now {0} characters long\".format(len(corpus_raw)))\n",
        "    print()"
      ],
      "execution_count": 46,
      "outputs": [
        {
          "output_type": "stream",
          "text": [
            "Reading 'drive/app/Misc/whatsapp/sapp2vec/clean_text.txt'...\n",
            "Corpus is now 1811190 characters long\n",
            "\n"
          ],
          "name": "stdout"
        }
      ]
    },
    {
      "metadata": {
        "id": "5J4chOuVoLuD",
        "colab_type": "text"
      },
      "cell_type": "markdown",
      "source": [
        "**Split the corpus into sentences**"
      ]
    },
    {
      "metadata": {
        "id": "daXb1EG-oLuF",
        "colab_type": "code",
        "colab": {
          "autoexec": {
            "startup": false,
            "wait_interval": 0
          },
          "base_uri": "https://localhost:8080/",
          "height": 0
        },
        "outputId": "e7bc9e20-156f-41a0-9688-b17e306035e5",
        "executionInfo": {
          "status": "ok",
          "timestamp": 1530740594541,
          "user_tz": -330,
          "elapsed": 1134,
          "user": {
            "displayName": "Suyash Gulati",
            "photoUrl": "https://lh3.googleusercontent.com/a/default-user=s128",
            "userId": "105838867624346791498"
          }
        }
      },
      "cell_type": "code",
      "source": [
        "tokenizer = nltk.data.load('tokenizers/punkt/english.pickle')"
      ],
      "execution_count": 47,
      "outputs": []
    },
    {
      "metadata": {
        "id": "h8zOYakjoLuN",
        "colab_type": "code",
        "colab": {
          "autoexec": {
            "startup": false,
            "wait_interval": 0
          },
          "base_uri": "https://localhost:8080/",
          "height": 0
        },
        "outputId": "96e9c7ab-da82-4098-dea6-02f2120466de",
        "executionInfo": {
          "status": "ok",
          "timestamp": 1530740600791,
          "user_tz": -330,
          "elapsed": 1022,
          "user": {
            "displayName": "Suyash Gulati",
            "photoUrl": "https://lh3.googleusercontent.com/a/default-user=s128",
            "userId": "105838867624346791498"
          }
        }
      },
      "cell_type": "code",
      "source": [
        "raw_sentences = tokenizer.tokenize(corpus_raw)"
      ],
      "execution_count": 48,
      "outputs": []
    },
    {
      "metadata": {
        "id": "Z2hasGbmoLuU",
        "colab_type": "code",
        "colab": {
          "autoexec": {
            "startup": false,
            "wait_interval": 0
          },
          "base_uri": "https://localhost:8080/",
          "height": 0
        },
        "outputId": "f5439de3-1c68-458f-8116-ab4d9d5b98b4",
        "executionInfo": {
          "status": "ok",
          "timestamp": 1530740602388,
          "user_tz": -330,
          "elapsed": 1078,
          "user": {
            "displayName": "Suyash Gulati",
            "photoUrl": "https://lh3.googleusercontent.com/a/default-user=s128",
            "userId": "105838867624346791498"
          }
        }
      },
      "cell_type": "code",
      "source": [
        "#convert into a list of words\n",
        "#remove unnnecessary,, split into words, no hyphens\n",
        "#list of words\n",
        "def sentence_to_wordlist(raw):\n",
        "    clean = re.sub(\"[^a-zA-Z]\",\" \", raw)\n",
        "    words = clean.split()\n",
        "    return words"
      ],
      "execution_count": 49,
      "outputs": []
    },
    {
      "metadata": {
        "id": "uVxdBC2foLub",
        "colab_type": "code",
        "colab": {
          "autoexec": {
            "startup": false,
            "wait_interval": 0
          },
          "base_uri": "https://localhost:8080/",
          "height": 0
        },
        "outputId": "8ddc844c-6230-4606-8f1b-f0c560f31864",
        "executionInfo": {
          "status": "ok",
          "timestamp": 1530740605989,
          "user_tz": -330,
          "elapsed": 3416,
          "user": {
            "displayName": "Suyash Gulati",
            "photoUrl": "https://lh3.googleusercontent.com/a/default-user=s128",
            "userId": "105838867624346791498"
          }
        }
      },
      "cell_type": "code",
      "source": [
        "#sentence where each word is tokenized\n",
        "sentences = []\n",
        "for raw_sentence in raw_sentences:\n",
        "    if len(raw_sentence) > 0:\n",
        "        raw_sentence = raw_sentence.lower()\n",
        "        sentences.append(sentence_to_wordlist(raw_sentence))"
      ],
      "execution_count": 50,
      "outputs": []
    },
    {
      "metadata": {
        "id": "yku_LdX2oLuo",
        "colab_type": "code",
        "colab": {
          "autoexec": {
            "startup": false,
            "wait_interval": 0
          },
          "base_uri": "https://localhost:8080/",
          "height": 36
        },
        "outputId": "79e1ce48-3221-49ef-912b-da71bd8588fa",
        "executionInfo": {
          "status": "ok",
          "timestamp": 1530740152205,
          "user_tz": -330,
          "elapsed": 886,
          "user": {
            "displayName": "Suyash Gulati",
            "photoUrl": "https://lh3.googleusercontent.com/a/default-user=s128",
            "userId": "105838867624346791498"
          }
        }
      },
      "cell_type": "code",
      "source": [
        "token_count = sum([len(sentence) for sentence in sentences])\n",
        "print(\"The chat corpus contains {0:,} tokens\".format(token_count))"
      ],
      "execution_count": 14,
      "outputs": [
        {
          "output_type": "stream",
          "text": [
            "The chat corpus contains 1,395,270 tokens\n"
          ],
          "name": "stdout"
        }
      ]
    },
    {
      "metadata": {
        "id": "uupyZUaZoLuw",
        "colab_type": "text"
      },
      "cell_type": "markdown",
      "source": [
        "## Train Word2Vec"
      ]
    },
    {
      "metadata": {
        "id": "IWymL6tYoLux",
        "colab_type": "code",
        "colab": {
          "autoexec": {
            "startup": false,
            "wait_interval": 0
          },
          "base_uri": "https://localhost:8080/",
          "height": 0
        },
        "outputId": "ac54a037-d194-46df-ba0b-9730e75dd497",
        "executionInfo": {
          "status": "ok",
          "timestamp": 1530740927524,
          "user_tz": -330,
          "elapsed": 1076,
          "user": {
            "displayName": "Suyash Gulati",
            "photoUrl": "https://lh3.googleusercontent.com/a/default-user=s128",
            "userId": "105838867624346791498"
          }
        }
      },
      "cell_type": "code",
      "source": [
        "#ONCE we have vectors\n",
        "#step 3 - build model\n",
        "#3 main tasks that vectors help with\n",
        "#DISTANCE, SIMILARITY, RANKING\n",
        "\n",
        "# Dimensionality of the resulting word vectors.\n",
        "#more dimensions, more computationally expensive to train\n",
        "#but also more accurate\n",
        "#more dimensions = more generalized\n",
        "num_features = 500\n",
        "# Minimum word count threshold.\n",
        "min_word_count = 3\n",
        "\n",
        "# Number of threads to run in parallel.\n",
        "#more workers, faster we train\n",
        "#num_workers = multiprocessing.cpu_count()\n",
        "\n",
        "# Context window length.\n",
        "context_size = 7\n",
        "\n",
        "# Downsample setting for frequent words.\n",
        "#0 - 1e-5 is good for this\n",
        "downsampling = 1e-3\n",
        "\n",
        "# Seed for the RNG, to make the results reproducible.\n",
        "#random number generator\n",
        "#deterministic, good for debugging\n",
        "seed = 1"
      ],
      "execution_count": 52,
      "outputs": []
    },
    {
      "metadata": {
        "id": "G2yNzbDKoLvA",
        "colab_type": "code",
        "colab": {
          "autoexec": {
            "startup": false,
            "wait_interval": 0
          },
          "base_uri": "https://localhost:8080/",
          "height": 0
        },
        "outputId": "027c9e47-60b4-4523-8434-5749f3cb852a",
        "executionInfo": {
          "status": "ok",
          "timestamp": 1530740934311,
          "user_tz": -330,
          "elapsed": 1711,
          "user": {
            "displayName": "Suyash Gulati",
            "photoUrl": "https://lh3.googleusercontent.com/a/default-user=s128",
            "userId": "105838867624346791498"
          }
        }
      },
      "cell_type": "code",
      "source": [
        "sapp2vec = w2v.Word2Vec(\n",
        "    sg=1,\n",
        "    seed=seed,\n",
        "    #workers=num_workers,\n",
        "    size=num_features,\n",
        "    min_count=min_word_count,\n",
        "    window=context_size,\n",
        "    sample=downsampling\n",
        ")"
      ],
      "execution_count": 53,
      "outputs": []
    },
    {
      "metadata": {
        "id": "eq4I2jiKoLvH",
        "colab_type": "code",
        "colab": {
          "autoexec": {
            "startup": false,
            "wait_interval": 0
          },
          "base_uri": "https://localhost:8080/",
          "height": 0
        },
        "outputId": "4fa2f5fd-98bc-4722-c7b0-e8fa94e3b4ea",
        "executionInfo": {
          "status": "ok",
          "timestamp": 1530740936378,
          "user_tz": -330,
          "elapsed": 1115,
          "user": {
            "displayName": "Suyash Gulati",
            "photoUrl": "https://lh3.googleusercontent.com/a/default-user=s128",
            "userId": "105838867624346791498"
          }
        }
      },
      "cell_type": "code",
      "source": [
        "sapp2vec.build_vocab(sentences)"
      ],
      "execution_count": 54,
      "outputs": []
    },
    {
      "metadata": {
        "id": "VxQ5TceyoLvT",
        "colab_type": "code",
        "colab": {
          "autoexec": {
            "startup": false,
            "wait_interval": 0
          },
          "base_uri": "https://localhost:8080/",
          "height": 36
        },
        "outputId": "c63110d5-538c-4cae-ca22-013a11e8e0f4",
        "executionInfo": {
          "status": "ok",
          "timestamp": 1530740937946,
          "user_tz": -330,
          "elapsed": 891,
          "user": {
            "displayName": "Suyash Gulati",
            "photoUrl": "https://lh3.googleusercontent.com/a/default-user=s128",
            "userId": "105838867624346791498"
          }
        }
      },
      "cell_type": "code",
      "source": [
        "print(\"Word2Vec vocabulary length:\", len(sapp2vec.wv.vocab))"
      ],
      "execution_count": 55,
      "outputs": [
        {
          "output_type": "stream",
          "text": [
            "Word2Vec vocabulary length: 8543\n"
          ],
          "name": "stdout"
        }
      ]
    },
    {
      "metadata": {
        "id": "3y0pQjdEoLvh",
        "colab_type": "code",
        "colab": {
          "autoexec": {
            "startup": false,
            "wait_interval": 0
          },
          "base_uri": "https://localhost:8080/",
          "height": 36
        },
        "outputId": "5cd1c7b0-218d-4cfb-dc41-2f49a3848ba5",
        "executionInfo": {
          "status": "ok",
          "timestamp": 1530740941131,
          "user_tz": -330,
          "elapsed": 2745,
          "user": {
            "displayName": "Suyash Gulati",
            "photoUrl": "https://lh3.googleusercontent.com/a/default-user=s128",
            "userId": "105838867624346791498"
          }
        }
      },
      "cell_type": "code",
      "source": [
        "sapp2vec.train(sentences,total_examples=sapp2vec.corpus_count,epochs=10)"
      ],
      "execution_count": 56,
      "outputs": [
        {
          "output_type": "execute_result",
          "data": {
            "text/plain": [
              "(100000, 3509730)"
            ]
          },
          "metadata": {
            "tags": []
          },
          "execution_count": 56
        }
      ]
    },
    {
      "metadata": {
        "id": "3-bNVfpioLvu",
        "colab_type": "code",
        "colab": {
          "autoexec": {
            "startup": false,
            "wait_interval": 0
          },
          "base_uri": "https://localhost:8080/",
          "height": 17
        },
        "outputId": "b1afc896-948a-415b-ba08-91f7ce6f4a95",
        "executionInfo": {
          "status": "ok",
          "timestamp": 1530740942772,
          "user_tz": -330,
          "elapsed": 839,
          "user": {
            "displayName": "Suyash Gulati",
            "photoUrl": "https://lh3.googleusercontent.com/a/default-user=s128",
            "userId": "105838867624346791498"
          }
        }
      },
      "cell_type": "code",
      "source": [
        "if not os.path.exists(\"trained\"):\n",
        "    os.makedirs(\"trained\")"
      ],
      "execution_count": 57,
      "outputs": []
    },
    {
      "metadata": {
        "id": "ae-vTZohoLv2",
        "colab_type": "code",
        "colab": {
          "autoexec": {
            "startup": false,
            "wait_interval": 0
          },
          "base_uri": "https://localhost:8080/",
          "height": 0
        },
        "outputId": "b181a925-10c4-4d67-b662-df1ea5538ad2",
        "executionInfo": {
          "status": "ok",
          "timestamp": 1530740951551,
          "user_tz": -330,
          "elapsed": 8468,
          "user": {
            "displayName": "Suyash Gulati",
            "photoUrl": "https://lh3.googleusercontent.com/a/default-user=s128",
            "userId": "105838867624346791498"
          }
        }
      },
      "cell_type": "code",
      "source": [
        "sapp2vec.save(os.path.join(\"drive/app/Misc/whatsapp/sapp2vec\", \"sapp2vec.w2v\"))"
      ],
      "execution_count": 58,
      "outputs": []
    },
    {
      "metadata": {
        "id": "Avx0KQW0yxwT",
        "colab_type": "code",
        "colab": {
          "autoexec": {
            "startup": false,
            "wait_interval": 0
          },
          "base_uri": "https://localhost:8080/",
          "height": 0
        },
        "outputId": "d6aacba3-26d7-4da7-d8cb-120891e6a842",
        "executionInfo": {
          "status": "ok",
          "timestamp": 1530741081295,
          "user_tz": -330,
          "elapsed": 127836,
          "user": {
            "displayName": "Suyash Gulati",
            "photoUrl": "https://lh3.googleusercontent.com/a/default-user=s128",
            "userId": "105838867624346791498"
          }
        }
      },
      "cell_type": "code",
      "source": [
        "sapp2vec.wv.save_word2vec_format('drive/app/Misc/whatsapp/sapp2vec/sapp2vec.txt', binary=False)"
      ],
      "execution_count": 59,
      "outputs": []
    },
    {
      "metadata": {
        "id": "EzPNmqOuoLv6",
        "colab_type": "code",
        "colab": {
          "autoexec": {
            "startup": false,
            "wait_interval": 0
          },
          "base_uri": "https://localhost:8080/",
          "height": 0
        },
        "outputId": "f5935629-bf00-405c-dd8f-c912cdc11fe8",
        "executionInfo": {
          "status": "ok",
          "timestamp": 1530741089805,
          "user_tz": -330,
          "elapsed": 4999,
          "user": {
            "displayName": "Suyash Gulati",
            "photoUrl": "https://lh3.googleusercontent.com/a/default-user=s128",
            "userId": "105838867624346791498"
          }
        }
      },
      "cell_type": "code",
      "source": [
        "sapp2vec = w2v.Word2Vec.load(os.path.join(\"drive/app/Misc/whatsapp/sapp2vec\", \"sapp2vec.w2v\"))"
      ],
      "execution_count": 60,
      "outputs": []
    },
    {
      "metadata": {
        "id": "rzUE3t3noLv9",
        "colab_type": "text"
      },
      "cell_type": "markdown",
      "source": [
        "### Compress the word vectors into 2D space and plot them"
      ]
    },
    {
      "metadata": {
        "id": "TTUr2rKroLv-",
        "colab_type": "code",
        "colab": {
          "autoexec": {
            "startup": false,
            "wait_interval": 0
          },
          "base_uri": "https://localhost:8080/",
          "height": 0
        },
        "outputId": "211ec0bf-abf6-4671-83bf-88e6bc1c95b7",
        "executionInfo": {
          "status": "ok",
          "timestamp": 1530741091169,
          "user_tz": -330,
          "elapsed": 1160,
          "user": {
            "displayName": "Suyash Gulati",
            "photoUrl": "https://lh3.googleusercontent.com/a/default-user=s128",
            "userId": "105838867624346791498"
          }
        }
      },
      "cell_type": "code",
      "source": [
        "#my video - how to visualize a dataset easily\n",
        "tsne = sklearn.manifold.TSNE(n_components=2, random_state=0)"
      ],
      "execution_count": 61,
      "outputs": []
    },
    {
      "metadata": {
        "id": "gdPo600yoLwH",
        "colab_type": "code",
        "colab": {
          "autoexec": {
            "startup": false,
            "wait_interval": 0
          },
          "base_uri": "https://localhost:8080/",
          "height": 74
        },
        "outputId": "c2e9faba-bf2d-4f25-d191-a9e2cc5943f5",
        "executionInfo": {
          "status": "ok",
          "timestamp": 1530741093858,
          "user_tz": -330,
          "elapsed": 1536,
          "user": {
            "displayName": "Suyash Gulati",
            "photoUrl": "https://lh3.googleusercontent.com/a/default-user=s128",
            "userId": "105838867624346791498"
          }
        }
      },
      "cell_type": "code",
      "source": [
        "all_word_vectors_matrix = sapp2vec.wv.syn0"
      ],
      "execution_count": 62,
      "outputs": [
        {
          "output_type": "stream",
          "text": [
            "/usr/local/lib/python3.6/dist-packages/ipykernel_launcher.py:1: DeprecationWarning: Call to deprecated `syn0` (Attribute will be removed in 4.0.0, use self.wv.vectors instead).\n",
            "  \"\"\"Entry point for launching an IPython kernel.\n"
          ],
          "name": "stderr"
        }
      ]
    },
    {
      "metadata": {
        "id": "VEwuC4wDoLwO",
        "colab_type": "code",
        "colab": {
          "autoexec": {
            "startup": false,
            "wait_interval": 0
          },
          "base_uri": "https://localhost:8080/",
          "height": 0
        },
        "outputId": "a0daabb2-ad26-407b-9fc9-03202e8e7d8a",
        "executionInfo": {
          "status": "ok",
          "timestamp": 1530741387787,
          "user_tz": -330,
          "elapsed": 291905,
          "user": {
            "displayName": "Suyash Gulati",
            "photoUrl": "https://lh3.googleusercontent.com/a/default-user=s128",
            "userId": "105838867624346791498"
          }
        }
      },
      "cell_type": "code",
      "source": [
        "all_word_vectors_matrix_2d = tsne.fit_transform(all_word_vectors_matrix)"
      ],
      "execution_count": 63,
      "outputs": []
    },
    {
      "metadata": {
        "id": "5bU1QWFdoLwS",
        "colab_type": "text"
      },
      "cell_type": "markdown",
      "source": [
        "**Plot the big picture**"
      ]
    },
    {
      "metadata": {
        "id": "C1MnqiudoLwX",
        "colab_type": "code",
        "colab": {
          "autoexec": {
            "startup": false,
            "wait_interval": 0
          },
          "base_uri": "https://localhost:8080/",
          "height": 0
        },
        "outputId": "6ad337a6-2ed7-468b-91c5-fa000d1df14a",
        "executionInfo": {
          "status": "ok",
          "timestamp": 1530741438629,
          "user_tz": -330,
          "elapsed": 1616,
          "user": {
            "displayName": "Suyash Gulati",
            "photoUrl": "https://lh3.googleusercontent.com/a/default-user=s128",
            "userId": "105838867624346791498"
          }
        }
      },
      "cell_type": "code",
      "source": [
        "points = pd.DataFrame(\n",
        "    [\n",
        "        (word, coords[0], coords[1])\n",
        "        for word, coords in [\n",
        "            (word, all_word_vectors_matrix_2d[sapp2vec.wv.vocab[word].index])\n",
        "            for word in sapp2vec.wv.vocab\n",
        "        ]\n",
        "    ],\n",
        "    columns=[\"word\", \"x\", \"y\"]\n",
        ")"
      ],
      "execution_count": 64,
      "outputs": []
    },
    {
      "metadata": {
        "id": "slyejNfyoLwc",
        "colab_type": "code",
        "colab": {
          "autoexec": {
            "startup": false,
            "wait_interval": 0
          },
          "base_uri": "https://localhost:8080/",
          "height": 81
        },
        "outputId": "c6b7409d-c0a7-4d23-f98d-251b16a8f48b",
        "executionInfo": {
          "status": "ok",
          "timestamp": 1530741441172,
          "user_tz": -330,
          "elapsed": 1543,
          "user": {
            "displayName": "Suyash Gulati",
            "photoUrl": "https://lh3.googleusercontent.com/a/default-user=s128",
            "userId": "105838867624346791498"
          }
        }
      },
      "cell_type": "code",
      "source": [
        "points[points['word']=='scooby']"
      ],
      "execution_count": 65,
      "outputs": [
        {
          "output_type": "execute_result",
          "data": {
            "text/html": [
              "<div>\n",
              "<style scoped>\n",
              "    .dataframe tbody tr th:only-of-type {\n",
              "        vertical-align: middle;\n",
              "    }\n",
              "\n",
              "    .dataframe tbody tr th {\n",
              "        vertical-align: top;\n",
              "    }\n",
              "\n",
              "    .dataframe thead th {\n",
              "        text-align: right;\n",
              "    }\n",
              "</style>\n",
              "<table border=\"1\" class=\"dataframe\">\n",
              "  <thead>\n",
              "    <tr style=\"text-align: right;\">\n",
              "      <th></th>\n",
              "      <th>word</th>\n",
              "      <th>x</th>\n",
              "      <th>y</th>\n",
              "    </tr>\n",
              "  </thead>\n",
              "  <tbody>\n",
              "    <tr>\n",
              "      <th>665</th>\n",
              "      <td>scooby</td>\n",
              "      <td>-20.275618</td>\n",
              "      <td>-60.507015</td>\n",
              "    </tr>\n",
              "  </tbody>\n",
              "</table>\n",
              "</div>"
            ],
            "text/plain": [
              "       word          x          y\n",
              "665  scooby -20.275618 -60.507015"
            ]
          },
          "metadata": {
            "tags": []
          },
          "execution_count": 65
        }
      ]
    },
    {
      "metadata": {
        "id": "VMvAWAl-Ug4_",
        "colab_type": "code",
        "colab": {
          "autoexec": {
            "startup": false,
            "wait_interval": 0
          },
          "base_uri": "https://localhost:8080/",
          "height": 0
        },
        "outputId": "284b60c7-7912-478b-e9eb-7e2025a9ebe9",
        "executionInfo": {
          "status": "ok",
          "timestamp": 1530741888538,
          "user_tz": -330,
          "elapsed": 6906,
          "user": {
            "displayName": "Suyash Gulati",
            "photoUrl": "https://lh3.googleusercontent.com/a/default-user=s128",
            "userId": "105838867624346791498"
          }
        }
      },
      "cell_type": "code",
      "source": [
        "points.to_csv(\"drive/app/Misc/whatsapp/sapp2vec/sapp2vec.csv\",index = False)"
      ],
      "execution_count": 71,
      "outputs": []
    },
    {
      "metadata": {
        "id": "829nnY_xoLwu",
        "colab_type": "code",
        "colab": {
          "autoexec": {
            "startup": false,
            "wait_interval": 0
          },
          "base_uri": "https://localhost:8080/",
          "height": 17
        },
        "outputId": "d848b784-06bb-453a-eb11-e7e54556d93c",
        "executionInfo": {
          "status": "ok",
          "timestamp": 1530741445688,
          "user_tz": -330,
          "elapsed": 1487,
          "user": {
            "displayName": "Suyash Gulati",
            "photoUrl": "https://lh3.googleusercontent.com/a/default-user=s128",
            "userId": "105838867624346791498"
          }
        }
      },
      "cell_type": "code",
      "source": [
        "sns.set_context(\"poster\")"
      ],
      "execution_count": 66,
      "outputs": []
    },
    {
      "metadata": {
        "id": "c7XfdBQHoLwy",
        "colab_type": "code",
        "colab": {
          "autoexec": {
            "startup": false,
            "wait_interval": 0
          },
          "base_uri": "https://localhost:8080/",
          "height": 749
        },
        "outputId": "401a34d9-17b9-4f41-a369-38f0e448e52d",
        "executionInfo": {
          "status": "ok",
          "timestamp": 1530741621230,
          "user_tz": -330,
          "elapsed": 1554,
          "user": {
            "displayName": "Suyash Gulati",
            "photoUrl": "https://lh3.googleusercontent.com/a/default-user=s128",
            "userId": "105838867624346791498"
          }
        }
      },
      "cell_type": "code",
      "source": [
        "points.plot.scatter(\"x\", \"y\", s=10, figsize=(20, 12))"
      ],
      "execution_count": 70,
      "outputs": [
        {
          "output_type": "execute_result",
          "data": {
            "text/plain": [
              "<matplotlib.axes._subplots.AxesSubplot at 0x7f8b5a503240>"
            ]
          },
          "metadata": {
            "tags": []
          },
          "execution_count": 70
        },
        {
          "output_type": "display_data",
          "data": {
            "image/png": "[encoded data removed]",
            "text/plain": [
              "<matplotlib.figure.Figure at 0x7f8b56cdb390>"
            ]
          },
          "metadata": {
            "tags": []
          }
        }
      ]
    },
    {
      "metadata": {
        "id": "rz0yxGPOoLw2",
        "colab_type": "text"
      },
      "cell_type": "markdown",
      "source": [
        "**Zoom in to some interesting places**"
      ]
    },
    {
      "metadata": {
        "id": "9rLzY3P-oLw3",
        "colab_type": "code",
        "colab": {
          "autoexec": {
            "startup": false,
            "wait_interval": 0
          },
          "base_uri": "https://localhost:8080/",
          "height": 17
        },
        "outputId": "691545d3-d49b-40af-bba2-b43b31a1872f",
        "executionInfo": {
          "status": "ok",
          "timestamp": 1530741449980,
          "user_tz": -330,
          "elapsed": 1562,
          "user": {
            "displayName": "Suyash Gulati",
            "photoUrl": "https://lh3.googleusercontent.com/a/default-user=s128",
            "userId": "105838867624346791498"
          }
        }
      },
      "cell_type": "code",
      "source": [
        "def plot_region(x_bounds, y_bounds):\n",
        "    slice = points[\n",
        "        (x_bounds[0] <= points.x) &\n",
        "        (points.x <= x_bounds[1]) & \n",
        "        (y_bounds[0] <= points.y) &\n",
        "        (points.y <= y_bounds[1])\n",
        "    ]\n",
        "    \n",
        "    ax = slice.plot.scatter(\"x\", \"y\", s=35, figsize=(10, 8))\n",
        "    for i, point in slice.iterrows():\n",
        "        ax.text(point.x + 0.005, point.y + 0.005, point.word, fontsize=11)"
      ],
      "execution_count": 68,
      "outputs": []
    },
    {
      "metadata": {
        "id": "l7pQI6kPoLw6",
        "colab_type": "code",
        "colab": {
          "autoexec": {
            "startup": false,
            "wait_interval": 0
          },
          "base_uri": "https://localhost:8080/",
          "height": 513
        },
        "outputId": "092ce40a-3a9d-4ad5-837b-9c89ab5968ba",
        "executionInfo": {
          "status": "ok",
          "timestamp": 1530558378995,
          "user_tz": -330,
          "elapsed": 732,
          "user": {
            "displayName": "Suyash Gulati",
            "photoUrl": "https://lh3.googleusercontent.com/a/default-user=s128",
            "userId": "113728651416421705255"
          }
        }
      },
      "cell_type": "code",
      "source": [
        "plot_region(x_bounds=(-62,-58 ), y_bounds=(22, 26))"
      ],
      "execution_count": 43,
      "outputs": [
        {
          "output_type": "display_data",
          "data": {
            "image/png": "[encoded data removed]",
            "text/plain": [
              "<matplotlib.figure.Figure at 0x7fc9360ec630>"
            ]
          },
          "metadata": {
            "tags": []
          }
        }
      ]
    },
    {
      "metadata": {
        "id": "ZykdLclyoLxC",
        "colab_type": "code",
        "colab": {
          "autoexec": {
            "startup": false,
            "wait_interval": 0
          },
          "base_uri": "https://localhost:8080/",
          "height": 513
        },
        "outputId": "faa3c29f-8cd7-47b4-bd1c-931a5085c2f2",
        "executionInfo": {
          "status": "ok",
          "timestamp": 1530447292617,
          "user_tz": -330,
          "elapsed": 1008,
          "user": {
            "displayName": "Suyash Gulati",
            "photoUrl": "https://lh3.googleusercontent.com/a/default-user=s128",
            "userId": "113728651416421705255"
          }
        }
      },
      "cell_type": "code",
      "source": [
        "plot_region(x_bounds=(42, 57), y_bounds=(10, 15))"
      ],
      "execution_count": 50,
      "outputs": [
        {
          "output_type": "display_data",
          "data": {
            "image/png": "[encoded data removed]",
            "text/plain": [
              "<matplotlib.figure.Figure at 0x7fb5845cc6d8>"
            ]
          },
          "metadata": {
            "tags": []
          }
        }
      ]
    },
    {
      "metadata": {
        "id": "xzj3iHAooLxH",
        "colab_type": "text"
      },
      "cell_type": "markdown",
      "source": [
        "### Explore semantic similarities between words"
      ]
    },
    {
      "metadata": {
        "id": "Nk-4PGVGoLxI",
        "colab_type": "text"
      },
      "cell_type": "markdown",
      "source": [
        "**Words closest to the given word**"
      ]
    },
    {
      "metadata": {
        "id": "RNYKrGaZoLxL",
        "colab_type": "code",
        "colab": {
          "autoexec": {
            "startup": false,
            "wait_interval": 0
          }
        },
        "outputId": "b19171a2-0141-427f-b27d-96f25c7cc549"
      },
      "cell_type": "code",
      "source": [
        "sapp2vec.most_similar(\"madhar\")"
      ],
      "execution_count": 0,
      "outputs": [
        {
          "output_type": "stream",
          "text": [
            "/home/nbuser/anaconda3_501/lib/python3.6/site-packages/ipykernel/__main__.py:1: DeprecationWarning: Call to deprecated `most_similar` (Method will be removed in 4.0.0, use self.wv.most_similar() instead).\n",
            "  if __name__ == '__main__':\n"
          ],
          "name": "stderr"
        },
        {
          "output_type": "execute_result",
          "data": {
            "text/plain": [
              "[('rajit', 0.8477747440338135),\n",
              " ('agya', 0.7562962174415588),\n",
              " ('moon', 0.7449634075164795),\n",
              " ('khali', 0.7392154932022095),\n",
              " ('mereko', 0.7247727513313293),\n",
              " ('golu', 0.7215362191200256),\n",
              " ('lauda', 0.7185718417167664),\n",
              " ('bhadve', 0.7139200568199158),\n",
              " ('madarchod', 0.711746096611023),\n",
              " ('heheh', 0.711087167263031)]"
            ]
          },
          "metadata": {
            "tags": []
          },
          "execution_count": 128
        }
      ]
    },
    {
      "metadata": {
        "id": "9eBsqtvdoLxX",
        "colab_type": "text"
      },
      "cell_type": "markdown",
      "source": [
        "**Linear relationships between word pairs**"
      ]
    },
    {
      "metadata": {
        "id": "SQo-19BboLxX",
        "colab_type": "code",
        "colab": {
          "autoexec": {
            "startup": false,
            "wait_interval": 0
          }
        }
      },
      "cell_type": "code",
      "source": [
        "def nearest_similarity_cosmul(start1, end1, end2):\n",
        "    similarities = sapp2vec.most_similar_cosmul(\n",
        "        positive=[end2, start1],\n",
        "        negative=[end1]\n",
        "    )\n",
        "    start2 = similarities[0][0]\n",
        "    print(\"{start1} is related to {end1}, as {start2} is related to {end2}\".format(**locals()))\n",
        "    return start2"
      ],
      "execution_count": 0,
      "outputs": []
    },
    {
      "metadata": {
        "id": "eXBQzh_XoLxc",
        "colab_type": "code",
        "colab": {
          "autoexec": {
            "startup": false,
            "wait_interval": 0
          }
        },
        "outputId": "2622bcb6-7790-4fe6-d9fb-621f01051035"
      },
      "cell_type": "code",
      "source": [
        "nearest_similarity_cosmul(\"madhar\", \"rajit\", \"meena\")"
      ],
      "execution_count": 0,
      "outputs": [
        {
          "output_type": "stream",
          "text": [
            "madhar is related to rajit, as boy is related to meena\n"
          ],
          "name": "stdout"
        },
        {
          "output_type": "stream",
          "text": [
            "/home/nbuser/anaconda3_501/lib/python3.6/site-packages/ipykernel/__main__.py:4: DeprecationWarning: Call to deprecated `most_similar_cosmul` (Method will be removed in 4.0.0, use self.wv.most_similar_cosmul() instead).\n"
          ],
          "name": "stderr"
        },
        {
          "output_type": "execute_result",
          "data": {
            "text/plain": [
              "'boy'"
            ]
          },
          "metadata": {
            "tags": []
          },
          "execution_count": 132
        }
      ]
    },
    {
      "metadata": {
        "id": "eUNFVr4PoLxm",
        "colab_type": "code",
        "colab": {
          "autoexec": {
            "startup": false,
            "wait_interval": 0
          }
        }
      },
      "cell_type": "code",
      "source": [
        ""
      ],
      "execution_count": 0,
      "outputs": []
    }
  ]
}